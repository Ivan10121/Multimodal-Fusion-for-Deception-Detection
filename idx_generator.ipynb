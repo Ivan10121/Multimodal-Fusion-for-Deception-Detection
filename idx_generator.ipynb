{
 "cells": [
  {
   "cell_type": "code",
   "execution_count": 1,
   "id": "475a5143",
   "metadata": {},
   "outputs": [],
   "source": [
    "import numpy as np\n",
    "from sklearn.model_selection import train_test_split, StratifiedKFold\n",
    "from pathlib import Path\n",
    "import pandas as pd, random\n",
    "import pickle\n",
    "\n",
    "\n",
    "# ---------- 1. Configuración reproducible ----------\n",
    "SEED = 0\n",
    "np.random.seed(SEED)\n",
    "random.seed(SEED)\n",
    "\n",
    "# ---------- 2. Cargar MFCC + etiquetas ----------\n",
    "carpetaD = Path(\"Data/Audio/mfcc_0.2s/Deceptive\")\n",
    "carpetaT = Path(\"Data/Audio/mfcc_0.2s/Truthful\")\n",
    "\n",
    "audio, etiquetas = [], []\n",
    "\n",
    "for archivo in sorted(carpetaD.iterdir()):\n",
    "    df = pd.read_csv(archivo, sep=\" \", header=None, usecols=range(20))\n",
    "    audio.append(df.values)\n",
    "    etiquetas.append(0)\n",
    "\n",
    "for archivo in sorted(carpetaT.iterdir()):\n",
    "    df = pd.read_csv(archivo, sep=\" \", header=None, usecols=range(20))\n",
    "    audio.append(df.values)\n",
    "    etiquetas.append(1)\n",
    "\n",
    "etiquetas = np.array(etiquetas)\n",
    "n_samples = len(etiquetas)\n",
    "indices   = np.arange(n_samples)\n",
    "\n",
    "# ---------- Apartar 15 % TEST ----------\n",
    "dev_idx, test_idx = train_test_split(\n",
    "    indices,\n",
    "    test_size=0.15,          # <-- 15 %\n",
    "    stratify=etiquetas,\n",
    "    random_state=SEED\n",
    ")\n",
    "\n",
    "\n",
    "\n",
    "\n"
   ]
  },
  {
   "cell_type": "code",
   "execution_count": 5,
   "id": "ae0cdfd6",
   "metadata": {},
   "outputs": [
    {
     "name": "stdout",
     "output_type": "stream",
     "text": [
      "[280   8  15 217 249 192 169 203 223  97 167 236  46  10  74   4 227 210\n",
      " 306 301 308 281 226 181 276 191  23 290  93 180  78  40 273  16 296   1\n",
      "  66  32 253   0 240 218 300 305  84  95 260 235  96 213  91 272 212  27\n",
      " 304  54  90 162 295 165 110 138  30 116 262 207 150 291 266  17 205 114\n",
      " 278 287  37  99 122 244 299 194   6  41  52 104 201 215 211  65 154 134\n",
      " 157 176 263 182  50 179  59 135 164 121  55 221 128 274 107 149  24 147\n",
      " 269 131 225 209 168  28 261  19 267 111 184   2  14 255 239  26 155 204\n",
      "  18 102  73  38  31 113 216  63 152 127  61 189 120 237 148 270 302 199\n",
      " 220  22 136  82 284 124 105  35  34 293 202 125  76 228  60  75 198 230\n",
      " 248  29  92 153 100  43 112  11 234 231 232 174 193 132 294 146 185 123\n",
      "  57 186 279 246 126 159 101 141 140  94 130 129 158 298 171 119 282 258\n",
      " 170 288 156  44 133  98 109  56 289  85  12 144 195   5 271 143 297 247\n",
      " 283 307 178   7  51 277  13 250 173 108  79 190 145   3 238  89  83 200\n",
      "  71 206  45  33 177 175 275  86 183 251  64 106  48  62 188 197  68 224\n",
      " 196  42 229  69  53 285 245 252  49 118]\n"
     ]
    }
   ],
   "source": [
    "print(dev_idx)"
   ]
  },
  {
   "cell_type": "code",
   "execution_count": 2,
   "id": "c0f2f609",
   "metadata": {},
   "outputs": [
    {
     "name": "stdout",
     "output_type": "stream",
     "text": [
      "262\n"
     ]
    }
   ],
   "source": [
    "print(len(dev_idx))"
   ]
  },
  {
   "cell_type": "code",
   "execution_count": 3,
   "id": "a6dcb1f4",
   "metadata": {},
   "outputs": [
    {
     "name": "stdout",
     "output_type": "stream",
     "text": [
      "[  0   1   2   3   4   5   6   7   8   9  10  11  12  13  14  15  16  17\n",
      "  18  19  20  21  22  23  24  25  26  27  28  29  30  31  32  33  34  35\n",
      "  36  37  38  39  40  41  42  43  44  45  46  47  48  49  50  51  52  53\n",
      "  54  55  56  57  58  59  60  61  62  63  64  65  66  67  68  69  70  71\n",
      "  72  73  74  75  76  77  78  79  80  81  82  83  84  85  86  87  88  89\n",
      "  90  91  92  93  94  95  96  97  98  99 100 101 102 103 104 105 106 107\n",
      " 108 109 110 111 112 113 114 115 116 117 118 119 120 121 122 123 124 125\n",
      " 126 127 128 129 130 131 132 133 134 135 136 137 138 139 140 141 142 143\n",
      " 144 145 146 147 148 149 150 151 152 153 154 155 156 157 158 159 160 161\n",
      " 162 163 164 165 166 167 168 169 170 171 172 173 174 175 176 177 178 179\n",
      " 180 181 182 183 184 185 186 187 188 189 190 191 192 193 194 195 196 197\n",
      " 198 199 200 201 202 203 204 205 206 207 208 209 210 211 212 213 214 215\n",
      " 216 217 218 219 220 221 222 223 224 225 226 227 228 229 230 231 232 233\n",
      " 234 235 236 237 238 239 240 241 242 243 244 245 246 247 248 249 250 251\n",
      " 252 253 254 255 256 257 258 259 260 261]\n"
     ]
    }
   ],
   "source": [
    "indices_dev = np.arange(len(dev_idx))\n",
    "print(indices_dev)"
   ]
  },
  {
   "cell_type": "code",
   "execution_count": 4,
   "id": "659448f4",
   "metadata": {},
   "outputs": [],
   "source": [
    "\n",
    "# ---------- Folds con el 85 % restante DEV ----------\n",
    "skf = StratifiedKFold(n_splits=5, shuffle=True, random_state=SEED)\n",
    "folds = [\n",
    "    (tr, vl)\n",
    "    for tr, vl in skf.split(indices_dev, etiquetas[dev_idx])\n",
    "]"
   ]
  },
  {
   "cell_type": "code",
   "execution_count": 9,
   "id": "5e59faae",
   "metadata": {},
   "outputs": [
    {
     "name": "stdout",
     "output_type": "stream",
     "text": [
      "[  1   2   4   5   6   7   9  10  11  12  14  15  17  18  19  21  22  23\n",
      "  24  25  26  27  29  31  33  34  35  36  37  38  39  40  41  45  46  48\n",
      "  50  51  52  53  54  55  56  57  58  59  60  61  62  63  64  65  66  67\n",
      "  69  70  71  72  73  76  77  79  80  81  82  83  84  85  86  87  89  90\n",
      "  91  92  94  95  96  97  98  99 101 103 104 105 106 107 108 109 110 111\n",
      " 112 113 114 118 120 121 122 123 124 127 128 129 130 131 132 133 134 135\n",
      " 136 137 138 141 143 144 145 147 148 149 150 151 154 155 156 157 158 159\n",
      " 160 161 162 163 164 166 167 168 169 170 171 172 173 174 175 176 177 178\n",
      " 179 181 183 184 186 188 189 190 191 192 193 194 196 197 198 199 200 201\n",
      " 204 205 206 207 208 209 210 211 213 214 215 216 218 219 220 221 222 223\n",
      " 224 226 227 228 230 233 234 235 236 237 238 240 241 242 243 244 245 246\n",
      " 247 248 249 253 254 256 257 258 259 260 261]\n"
     ]
    }
   ],
   "source": [
    "print(folds[0][0])"
   ]
  },
  {
   "cell_type": "code",
   "execution_count": 10,
   "id": "de7ce76d",
   "metadata": {},
   "outputs": [
    {
     "name": "stdout",
     "output_type": "stream",
     "text": [
      "209 53\n",
      "209 53\n",
      "210 52\n",
      "210 52\n",
      "210 52\n"
     ]
    }
   ],
   "source": [
    "for fold in folds:\n",
    "    print(len(fold[0]), len(fold[1]))"
   ]
  },
  {
   "cell_type": "code",
   "execution_count": 11,
   "id": "2687725f",
   "metadata": {},
   "outputs": [],
   "source": [
    "with open('fold_indices.pkl', 'wb') as f:\n",
    "    pickle.dump(folds, f)\n"
   ]
  },
  {
   "cell_type": "code",
   "execution_count": 12,
   "id": "1457f751",
   "metadata": {},
   "outputs": [],
   "source": [
    "np.savez(\"holdout_indices.npz\", dev=dev_idx, test=test_idx)\n"
   ]
  },
  {
   "cell_type": "code",
   "execution_count": 13,
   "id": "ca7a4875",
   "metadata": {},
   "outputs": [
    {
     "name": "stdout",
     "output_type": "stream",
     "text": [
      "Total muestras: 309\n",
      "DEV: 262  |  TEST: 47\n",
      "fold_indices.npz y test_holdout.npz guardados.\n"
     ]
    }
   ],
   "source": [
    "\n",
    "print(\n",
    "    f\"Total muestras: {n_samples}\\n\"\n",
    "    f\"DEV: {len(dev_idx)}  |  TEST: {len(test_idx)}\\n\"\n",
    "    \"fold_indices.npz y test_holdout.npz guardados.\"\n",
    ")"
   ]
  }
 ],
 "metadata": {
  "kernelspec": {
   "display_name": "base",
   "language": "python",
   "name": "python3"
  },
  "language_info": {
   "codemirror_mode": {
    "name": "ipython",
    "version": 3
   },
   "file_extension": ".py",
   "mimetype": "text/x-python",
   "name": "python",
   "nbconvert_exporter": "python",
   "pygments_lexer": "ipython3",
   "version": "3.12.3"
  }
 },
 "nbformat": 4,
 "nbformat_minor": 5
}
